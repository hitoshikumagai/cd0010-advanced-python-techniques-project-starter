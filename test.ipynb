{
 "cells": [
  {
   "cell_type": "code",
   "execution_count": 1,
   "metadata": {},
   "outputs": [],
   "source": [
    "import pandas as pd\n",
    "import os\n",
    "import glob\n",
    "import json"
   ]
  },
  {
   "cell_type": "markdown",
   "metadata": {},
   "source": [
    "# Review data\n",
    "## Get file path"
   ]
  },
  {
   "cell_type": "code",
   "execution_count": 2,
   "metadata": {},
   "outputs": [],
   "source": [
    "data_pth_lst = glob.glob(os.getcwd() + \"/data/*\")\n",
    "csv_pth = [pth for pth in data_pth_lst if '.csv' in pth]\n",
    "json_pth = [pth for pth in data_pth_lst if '.json' in pth]"
   ]
  },
  {
   "cell_type": "markdown",
   "metadata": {},
   "source": [
    "## csv data"
   ]
  },
  {
   "cell_type": "code",
   "execution_count": 3,
   "metadata": {},
   "outputs": [
    {
     "name": "stdout",
     "output_type": "stream",
     "text": [
      "<class 'pandas.core.frame.DataFrame'>\n",
      "RangeIndex: 23967 entries, 0 to 23966\n",
      "Data columns (total 75 columns):\n",
      " #   Column          Non-Null Count  Dtype  \n",
      "---  ------          --------------  -----  \n",
      " 0   id              23967 non-null  object \n",
      " 1   spkid           23967 non-null  int64  \n",
      " 2   full_name       23967 non-null  object \n",
      " 3   pdes            23967 non-null  object \n",
      " 4   name            343 non-null    object \n",
      " 5   prefix          184 non-null    object \n",
      " 6   neo             23967 non-null  object \n",
      " 7   pha             23779 non-null  object \n",
      " 8   H               23774 non-null  float64\n",
      " 9   G               13 non-null     float64\n",
      " 10  M1              126 non-null    float64\n",
      " 11  M2              54 non-null     float64\n",
      " 12  K1              126 non-null    float64\n",
      " 13  K2              54 non-null     float64\n",
      " 14  PC              36 non-null     float64\n",
      " 15  diameter        1268 non-null   float64\n",
      " 16  extent          10 non-null     object \n",
      " 17  albedo          1208 non-null   float64\n",
      " 18  rot_per         1679 non-null   float64\n",
      " 19  GM              4 non-null      float64\n",
      " 20  BV              38 non-null     float64\n",
      " 21  UB              38 non-null     float64\n",
      " 22  IR              1 non-null      float64\n",
      " 23  spec_B          313 non-null    object \n",
      " 24  spec_T          36 non-null     object \n",
      " 25  H_sigma         5682 non-null   float64\n",
      " 26  diameter_sigma  1162 non-null   float64\n",
      " 27  orbit_id        23967 non-null  object \n",
      " 28  epoch           23967 non-null  float64\n",
      " 29  epoch_mjd       23967 non-null  float64\n",
      " 30  epoch_cal       23967 non-null  float64\n",
      " 31  equinox         23967 non-null  object \n",
      " 32  e               23967 non-null  float64\n",
      " 33  a               23967 non-null  float64\n",
      " 34  q               23967 non-null  float64\n",
      " 35  i               23967 non-null  float64\n",
      " 36  om              23967 non-null  float64\n",
      " 37  w               23967 non-null  float64\n",
      " 38  ma              23967 non-null  float64\n",
      " 39  ad              23967 non-null  float64\n",
      " 40  n               23967 non-null  float64\n",
      " 41  tp              23967 non-null  float64\n",
      " 42  tp_cal          23967 non-null  float64\n",
      " 43  per             23967 non-null  float64\n",
      " 44  per_y           23967 non-null  float64\n",
      " 45  moid            23952 non-null  float64\n",
      " 46  moid_ld         23952 non-null  float64\n",
      " 47  moid_jup        23845 non-null  float64\n",
      " 48  t_jup           23967 non-null  float64\n",
      " 49  sigma_e         23950 non-null  float64\n",
      " 50  sigma_a         23950 non-null  float64\n",
      " 51  sigma_q         23950 non-null  float64\n",
      " 52  sigma_i         23950 non-null  float64\n",
      " 53  sigma_om        23950 non-null  float64\n",
      " 54  sigma_w         23950 non-null  float64\n",
      " 55  sigma_ma        23950 non-null  float64\n",
      " 56  sigma_ad        23950 non-null  float64\n",
      " 57  sigma_n         23950 non-null  float64\n",
      " 58  sigma_tp        23950 non-null  float64\n",
      " 59  sigma_per       23950 non-null  float64\n",
      " 60  class           23967 non-null  object \n",
      " 61  producer        23967 non-null  object \n",
      " 62  data_arc        23746 non-null  float64\n",
      " 63  first_obs       23965 non-null  object \n",
      " 64  last_obs        23965 non-null  object \n",
      " 65  n_obs_used      23967 non-null  int64  \n",
      " 66  n_del_obs_used  924 non-null    float64\n",
      " 67  n_dop_obs_used  924 non-null    float64\n",
      " 68  condition_code  23950 non-null  float64\n",
      " 69  rms             23954 non-null  float64\n",
      " 70  two_body        15 non-null     object \n",
      " 71  A1              54 non-null     float64\n",
      " 72  A2              177 non-null    float64\n",
      " 73  A3              15 non-null     float64\n",
      " 74  DT              6 non-null      float64\n",
      "dtypes: float64(56), int64(2), object(17)\n",
      "memory usage: 13.7+ MB\n"
     ]
    }
   ],
   "source": [
    "csv_df = pd.read_csv(csv_pth[0],low_memory=False)\n",
    "csv_df.info()"
   ]
  },
  {
   "cell_type": "code",
   "execution_count": 4,
   "metadata": {},
   "outputs": [
    {
     "data": {
      "text/plain": [
       "(23967, 75)"
      ]
     },
     "execution_count": 4,
     "metadata": {},
     "output_type": "execute_result"
    }
   ],
   "source": [
    "csv_df.shape"
   ]
  },
  {
   "cell_type": "code",
   "execution_count": 5,
   "metadata": {},
   "outputs": [
    {
     "data": {
      "text/html": [
       "<div>\n",
       "<style scoped>\n",
       "    .dataframe tbody tr th:only-of-type {\n",
       "        vertical-align: middle;\n",
       "    }\n",
       "\n",
       "    .dataframe tbody tr th {\n",
       "        vertical-align: top;\n",
       "    }\n",
       "\n",
       "    .dataframe thead th {\n",
       "        text-align: right;\n",
       "    }\n",
       "</style>\n",
       "<table border=\"1\" class=\"dataframe\">\n",
       "  <thead>\n",
       "    <tr style=\"text-align: right;\">\n",
       "      <th></th>\n",
       "      <th>id</th>\n",
       "      <th>spkid</th>\n",
       "      <th>full_name</th>\n",
       "      <th>pdes</th>\n",
       "      <th>name</th>\n",
       "      <th>prefix</th>\n",
       "      <th>neo</th>\n",
       "      <th>pha</th>\n",
       "      <th>H</th>\n",
       "      <th>G</th>\n",
       "      <th>...</th>\n",
       "      <th>n_obs_used</th>\n",
       "      <th>n_del_obs_used</th>\n",
       "      <th>n_dop_obs_used</th>\n",
       "      <th>condition_code</th>\n",
       "      <th>rms</th>\n",
       "      <th>two_body</th>\n",
       "      <th>A1</th>\n",
       "      <th>A2</th>\n",
       "      <th>A3</th>\n",
       "      <th>DT</th>\n",
       "    </tr>\n",
       "  </thead>\n",
       "  <tbody>\n",
       "    <tr>\n",
       "      <th>0</th>\n",
       "      <td>a0000433</td>\n",
       "      <td>2000433</td>\n",
       "      <td>433 Eros (A898 PA)</td>\n",
       "      <td>433</td>\n",
       "      <td>Eros</td>\n",
       "      <td>NaN</td>\n",
       "      <td>Y</td>\n",
       "      <td>N</td>\n",
       "      <td>10.4</td>\n",
       "      <td>0.46</td>\n",
       "      <td>...</td>\n",
       "      <td>8767</td>\n",
       "      <td>4.0</td>\n",
       "      <td>2.0</td>\n",
       "      <td>0.0</td>\n",
       "      <td>0.28397</td>\n",
       "      <td>NaN</td>\n",
       "      <td>NaN</td>\n",
       "      <td>NaN</td>\n",
       "      <td>NaN</td>\n",
       "      <td>NaN</td>\n",
       "    </tr>\n",
       "  </tbody>\n",
       "</table>\n",
       "<p>1 rows × 75 columns</p>\n",
       "</div>"
      ],
      "text/plain": [
       "         id    spkid              full_name pdes  name prefix neo pha     H  \\\n",
       "0  a0000433  2000433     433 Eros (A898 PA)  433  Eros    NaN   Y   N  10.4   \n",
       "\n",
       "      G  ...  n_obs_used  n_del_obs_used  n_dop_obs_used  condition_code  \\\n",
       "0  0.46  ...        8767             4.0             2.0             0.0   \n",
       "\n",
       "       rms  two_body  A1  A2  A3  DT  \n",
       "0  0.28397       NaN NaN NaN NaN NaN  \n",
       "\n",
       "[1 rows x 75 columns]"
      ]
     },
     "execution_count": 5,
     "metadata": {},
     "output_type": "execute_result"
    }
   ],
   "source": [
    "csv_df.head(1)"
   ]
  },
  {
   "cell_type": "code",
   "execution_count": 6,
   "metadata": {},
   "outputs": [
    {
     "data": {
      "text/plain": [
       "0    16.84\n",
       "Name: diameter, dtype: float64"
      ]
     },
     "execution_count": 6,
     "metadata": {},
     "output_type": "execute_result"
    }
   ],
   "source": [
    "csv_df[\"diameter\"].head(1)"
   ]
  },
  {
   "cell_type": "code",
   "execution_count": 7,
   "metadata": {},
   "outputs": [
    {
     "data": {
      "text/plain": [
       "10    1.5\n",
       "Name: diameter, dtype: float64"
      ]
     },
     "execution_count": 7,
     "metadata": {},
     "output_type": "execute_result"
    }
   ],
   "source": [
    "csv_df[csv_df[\"name\"]==\"Apollo\"][\"diameter\"]"
   ]
  },
  {
   "cell_type": "code",
   "execution_count": 8,
   "metadata": {},
   "outputs": [
    {
     "data": {
      "text/plain": [
       "241"
      ]
     },
     "execution_count": 8,
     "metadata": {},
     "output_type": "execute_result"
    }
   ],
   "source": [
    "len(csv_df[\"name\"].unique())\n"
   ]
  },
  {
   "cell_type": "code",
   "execution_count": 9,
   "metadata": {},
   "outputs": [
    {
     "data": {
      "text/plain": [
       "(343, 75)"
      ]
     },
     "execution_count": 9,
     "metadata": {},
     "output_type": "execute_result"
    }
   ],
   "source": [
    "csv_df[csv_df[\"name\"].isna()==False].shape\n"
   ]
  },
  {
   "cell_type": "code",
   "execution_count": 10,
   "metadata": {},
   "outputs": [
    {
     "data": {
      "text/plain": [
       "(1268, 75)"
      ]
     },
     "execution_count": 10,
     "metadata": {},
     "output_type": "execute_result"
    }
   ],
   "source": [
    "csv_df[csv_df[\"diameter\"].isna()==False].shape\n"
   ]
  },
  {
   "cell_type": "code",
   "execution_count": 40,
   "metadata": {},
   "outputs": [
    {
     "data": {
      "text/plain": [
       "array([['bK20F00K', 54016202, '       (2020 FK)', '2020 FK', nan, nan,\n",
       "        'Y', 'N', 28.325, nan, nan, nan, nan, nan, nan, nan, nan, nan,\n",
       "        nan, nan, nan, nan, nan, nan, nan, 0.36052, nan, 'JPL 1',\n",
       "        2459000.5, 59000.0, 20200531.0, 'J2000', 0.3828136157396471,\n",
       "        1.377450728789239, 0.8501438347982181, 4.158847600087888,\n",
       "        354.2758839875602, 249.0935831951324, 14.33386884161744,\n",
       "        1.904757622780259, 0.6096631759827036, 2458976.9888722063,\n",
       "        20200507.4888722, 590.4899855887201, 1.6166734718377, 0.00867459,\n",
       "        3.3758901903, 3.12855, 4.726, 0.00067252, 0.0011611, 0.00021086,\n",
       "        0.0055084, 0.00040076, 0.0060058, 0.0076964, 0.0016056,\n",
       "        0.00077086, 0.017203, 0.74662, 'APO', 'Otto Matic', 1.0,\n",
       "        '2020-03-16', '2020-03-17', 21, nan, nan, 7.0, 0.48509, nan, nan,\n",
       "        nan, nan, nan]], dtype=object)"
      ]
     },
     "execution_count": 40,
     "metadata": {},
     "output_type": "execute_result"
    }
   ],
   "source": [
    "\n",
    "csv_df[csv_df['pdes']=='2020 FK'].values"
   ]
  },
  {
   "cell_type": "markdown",
   "metadata": {},
   "source": [
    "## json data"
   ]
  },
  {
   "cell_type": "code",
   "execution_count": 11,
   "metadata": {},
   "outputs": [],
   "source": [
    "with open(json_pth[0], \"r\", encoding=\"utf-8\") as file:\n",
    "    data = json.load(file)\n",
    "\n",
    "json_df = pd.DataFrame(data[\"data\"])\n",
    "json_df.columns = data[\"fields\"]"
   ]
  },
  {
   "cell_type": "code",
   "execution_count": 12,
   "metadata": {},
   "outputs": [
    {
     "name": "stdout",
     "output_type": "stream",
     "text": [
      "<class 'pandas.core.frame.DataFrame'>\n",
      "RangeIndex: 406785 entries, 0 to 406784\n",
      "Data columns (total 11 columns):\n",
      " #   Column     Non-Null Count   Dtype \n",
      "---  ------     --------------   ----- \n",
      " 0   des        406785 non-null  object\n",
      " 1   orbit_id   406785 non-null  object\n",
      " 2   jd         406785 non-null  object\n",
      " 3   cd         406785 non-null  object\n",
      " 4   dist       406785 non-null  object\n",
      " 5   dist_min   406785 non-null  object\n",
      " 6   dist_max   406785 non-null  object\n",
      " 7   v_rel      406785 non-null  object\n",
      " 8   v_inf      406766 non-null  object\n",
      " 9   t_sigma_f  406785 non-null  object\n",
      " 10  h          406277 non-null  object\n",
      "dtypes: object(11)\n",
      "memory usage: 34.1+ MB\n"
     ]
    }
   ],
   "source": [
    "json_df.info()"
   ]
  },
  {
   "cell_type": "code",
   "execution_count": 13,
   "metadata": {},
   "outputs": [
    {
     "data": {
      "text/html": [
       "<div>\n",
       "<style scoped>\n",
       "    .dataframe tbody tr th:only-of-type {\n",
       "        vertical-align: middle;\n",
       "    }\n",
       "\n",
       "    .dataframe tbody tr th {\n",
       "        vertical-align: top;\n",
       "    }\n",
       "\n",
       "    .dataframe thead th {\n",
       "        text-align: right;\n",
       "    }\n",
       "</style>\n",
       "<table border=\"1\" class=\"dataframe\">\n",
       "  <thead>\n",
       "    <tr style=\"text-align: right;\">\n",
       "      <th></th>\n",
       "      <th>des</th>\n",
       "      <th>orbit_id</th>\n",
       "      <th>jd</th>\n",
       "      <th>cd</th>\n",
       "      <th>dist</th>\n",
       "      <th>dist_min</th>\n",
       "      <th>dist_max</th>\n",
       "      <th>v_rel</th>\n",
       "      <th>v_inf</th>\n",
       "      <th>t_sigma_f</th>\n",
       "      <th>h</th>\n",
       "    </tr>\n",
       "  </thead>\n",
       "  <tbody>\n",
       "    <tr>\n",
       "      <th>180844</th>\n",
       "      <td>2015 CL</td>\n",
       "      <td>7</td>\n",
       "      <td>2451544.575085225</td>\n",
       "      <td>2000-Jan-01 01:48</td>\n",
       "      <td>0.144929602021186</td>\n",
       "      <td>0.144894711605919</td>\n",
       "      <td>0.144964493657327</td>\n",
       "      <td>12.0338907050642</td>\n",
       "      <td>12.0323628689746</td>\n",
       "      <td>00:19</td>\n",
       "      <td>25.3</td>\n",
       "    </tr>\n",
       "  </tbody>\n",
       "</table>\n",
       "</div>"
      ],
      "text/plain": [
       "            des orbit_id                 jd                 cd  \\\n",
       "180844  2015 CL        7  2451544.575085225  2000-Jan-01 01:48   \n",
       "\n",
       "                     dist           dist_min           dist_max  \\\n",
       "180844  0.144929602021186  0.144894711605919  0.144964493657327   \n",
       "\n",
       "                   v_rel             v_inf t_sigma_f     h  \n",
       "180844  12.0338907050642  12.0323628689746     00:19  25.3  "
      ]
     },
     "execution_count": 13,
     "metadata": {},
     "output_type": "execute_result"
    }
   ],
   "source": [
    "json_df[(json_df[\"des\"]=='2015 CL')&(json_df[\"cd\"]>\"2000-Jan-01\")].head(1)\n"
   ]
  },
  {
   "cell_type": "code",
   "execution_count": 14,
   "metadata": {},
   "outputs": [
    {
     "data": {
      "text/html": [
       "<div>\n",
       "<style scoped>\n",
       "    .dataframe tbody tr th:only-of-type {\n",
       "        vertical-align: middle;\n",
       "    }\n",
       "\n",
       "    .dataframe tbody tr th {\n",
       "        vertical-align: top;\n",
       "    }\n",
       "\n",
       "    .dataframe thead th {\n",
       "        text-align: right;\n",
       "    }\n",
       "</style>\n",
       "<table border=\"1\" class=\"dataframe\">\n",
       "  <thead>\n",
       "    <tr style=\"text-align: right;\">\n",
       "      <th></th>\n",
       "      <th>des</th>\n",
       "      <th>orbit_id</th>\n",
       "      <th>jd</th>\n",
       "      <th>cd</th>\n",
       "      <th>dist</th>\n",
       "      <th>dist_min</th>\n",
       "      <th>dist_max</th>\n",
       "      <th>v_rel</th>\n",
       "      <th>v_inf</th>\n",
       "      <th>t_sigma_f</th>\n",
       "      <th>h</th>\n",
       "    </tr>\n",
       "  </thead>\n",
       "  <tbody>\n",
       "    <tr>\n",
       "      <th>180845</th>\n",
       "      <td>2002 PB</td>\n",
       "      <td>22</td>\n",
       "      <td>2451544.656861311</td>\n",
       "      <td>2000-Jan-01 03:46</td>\n",
       "      <td>0.499221505520251</td>\n",
       "      <td>0.499198890779505</td>\n",
       "      <td>0.499244120869353</td>\n",
       "      <td>29.3862908945476</td>\n",
       "      <td>29.3861092695424</td>\n",
       "      <td>&lt; 00:01</td>\n",
       "      <td>20.5</td>\n",
       "    </tr>\n",
       "  </tbody>\n",
       "</table>\n",
       "</div>"
      ],
      "text/plain": [
       "            des orbit_id                 jd                 cd  \\\n",
       "180845  2002 PB       22  2451544.656861311  2000-Jan-01 03:46   \n",
       "\n",
       "                     dist           dist_min           dist_max  \\\n",
       "180845  0.499221505520251  0.499198890779505  0.499244120869353   \n",
       "\n",
       "                   v_rel             v_inf t_sigma_f     h  \n",
       "180845  29.3862908945476  29.3861092695424   < 00:01  20.5  "
      ]
     },
     "execution_count": 14,
     "metadata": {},
     "output_type": "execute_result"
    }
   ],
   "source": [
    "json_df[(json_df[\"des\"]=='2002 PB')&(json_df[\"cd\"]>\"2000-Jan-01\")].head(1)\n"
   ]
  },
  {
   "cell_type": "code",
   "execution_count": 25,
   "metadata": {},
   "outputs": [
    {
     "data": {
      "text/html": [
       "<div>\n",
       "<style scoped>\n",
       "    .dataframe tbody tr th:only-of-type {\n",
       "        vertical-align: middle;\n",
       "    }\n",
       "\n",
       "    .dataframe tbody tr th {\n",
       "        vertical-align: top;\n",
       "    }\n",
       "\n",
       "    .dataframe thead th {\n",
       "        text-align: right;\n",
       "    }\n",
       "</style>\n",
       "<table border=\"1\" class=\"dataframe\">\n",
       "  <thead>\n",
       "    <tr style=\"text-align: right;\">\n",
       "      <th></th>\n",
       "      <th>des</th>\n",
       "      <th>orbit_id</th>\n",
       "      <th>jd</th>\n",
       "      <th>cd</th>\n",
       "      <th>dist</th>\n",
       "      <th>dist_min</th>\n",
       "      <th>dist_max</th>\n",
       "      <th>v_rel</th>\n",
       "      <th>v_inf</th>\n",
       "      <th>t_sigma_f</th>\n",
       "      <th>h</th>\n",
       "    </tr>\n",
       "  </thead>\n",
       "  <tbody>\n",
       "    <tr>\n",
       "      <th>193630</th>\n",
       "      <td>433</td>\n",
       "      <td>658</td>\n",
       "      <td>2453438.421527291</td>\n",
       "      <td>2005-Mar-08 22:07</td>\n",
       "      <td>0.365567230387813</td>\n",
       "      <td>0.365567167184262</td>\n",
       "      <td>0.365567293591385</td>\n",
       "      <td>4.41229243534752</td>\n",
       "      <td>4.41064023720793</td>\n",
       "      <td>&lt; 00:01</td>\n",
       "      <td>10.4</td>\n",
       "    </tr>\n",
       "  </tbody>\n",
       "</table>\n",
       "</div>"
      ],
      "text/plain": [
       "        des orbit_id                 jd                 cd               dist  \\\n",
       "193630  433      658  2453438.421527291  2005-Mar-08 22:07  0.365567230387813   \n",
       "\n",
       "                 dist_min           dist_max             v_rel  \\\n",
       "193630  0.365567167184262  0.365567293591385  4.41229243534752   \n",
       "\n",
       "                   v_inf t_sigma_f     h  \n",
       "193630  4.41064023720793   < 00:01  10.4  "
      ]
     },
     "execution_count": 25,
     "metadata": {},
     "output_type": "execute_result"
    }
   ],
   "source": [
    "# des==pde\n",
    "json_df[(json_df[\"des\"]=='433')&(json_df[\"cd\"]>\"2000-Jan-01\")].head(1)\n",
    "\n"
   ]
  },
  {
   "cell_type": "code",
   "execution_count": 32,
   "metadata": {},
   "outputs": [
    {
     "data": {
      "text/html": [
       "<div>\n",
       "<style scoped>\n",
       "    .dataframe tbody tr th:only-of-type {\n",
       "        vertical-align: middle;\n",
       "    }\n",
       "\n",
       "    .dataframe tbody tr th {\n",
       "        vertical-align: top;\n",
       "    }\n",
       "\n",
       "    .dataframe thead th {\n",
       "        text-align: right;\n",
       "    }\n",
       "</style>\n",
       "<table border=\"1\" class=\"dataframe\">\n",
       "  <thead>\n",
       "    <tr style=\"text-align: right;\">\n",
       "      <th></th>\n",
       "      <th>des</th>\n",
       "      <th>orbit_id</th>\n",
       "      <th>jd</th>\n",
       "      <th>cd</th>\n",
       "      <th>dist</th>\n",
       "      <th>dist_min</th>\n",
       "      <th>dist_max</th>\n",
       "      <th>v_rel</th>\n",
       "      <th>v_inf</th>\n",
       "      <th>t_sigma_f</th>\n",
       "      <th>h</th>\n",
       "    </tr>\n",
       "  </thead>\n",
       "  <tbody>\n",
       "    <tr>\n",
       "      <th>16712</th>\n",
       "      <td>1P</td>\n",
       "      <td>J863/77</td>\n",
       "      <td>2418812.0347</td>\n",
       "      <td>1910-May-20 12:49</td>\n",
       "      <td>0.151350148507397</td>\n",
       "      <td>0.151349737057533</td>\n",
       "      <td>0.151350559957257</td>\n",
       "      <td>70.5589506679726</td>\n",
       "      <td>70.5587011636023</td>\n",
       "      <td>&lt; 00:01</td>\n",
       "      <td>None</td>\n",
       "    </tr>\n",
       "  </tbody>\n",
       "</table>\n",
       "</div>"
      ],
      "text/plain": [
       "      des orbit_id            jd                 cd               dist  \\\n",
       "16712  1P  J863/77  2418812.0347  1910-May-20 12:49  0.151350148507397   \n",
       "\n",
       "                dist_min           dist_max             v_rel  \\\n",
       "16712  0.151349737057533  0.151350559957257  70.5589506679726   \n",
       "\n",
       "                  v_inf t_sigma_f     h  \n",
       "16712  70.5587011636023   < 00:01  None  "
      ]
     },
     "execution_count": 32,
     "metadata": {},
     "output_type": "execute_result"
    }
   ],
   "source": [
    "json_df[(json_df[\"des\"]=='1P')].head(1)"
   ]
  },
  {
   "cell_type": "code",
   "execution_count": 31,
   "metadata": {},
   "outputs": [
    {
     "data": {
      "text/plain": [
       "['1P', '21P', '141P-A', '141P', '41P', '321P', '181P']"
      ]
     },
     "execution_count": 31,
     "metadata": {},
     "output_type": "execute_result"
    }
   ],
   "source": [
    "[x for x in json_df[\"des\"].unique() if '1P' in x]\n"
   ]
  },
  {
   "cell_type": "code",
   "execution_count": null,
   "metadata": {},
   "outputs": [],
   "source": []
  }
 ],
 "metadata": {
  "kernelspec": {
   "display_name": "udacity",
   "language": "python",
   "name": "python3"
  },
  "language_info": {
   "codemirror_mode": {
    "name": "ipython",
    "version": 3
   },
   "file_extension": ".py",
   "mimetype": "text/x-python",
   "name": "python",
   "nbconvert_exporter": "python",
   "pygments_lexer": "ipython3",
   "version": "3.11.5"
  }
 },
 "nbformat": 4,
 "nbformat_minor": 2
}
