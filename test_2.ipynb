{
 "cells": [
  {
   "cell_type": "code",
   "execution_count": 58,
   "metadata": {},
   "outputs": [],
   "source": [
    "import glob\n",
    "import json\n",
    "import csv\n",
    "import os"
   ]
  },
  {
   "cell_type": "markdown",
   "metadata": {},
   "source": [
    "# Review data\n",
    "## Get file path"
   ]
  },
  {
   "cell_type": "code",
   "execution_count": 59,
   "metadata": {},
   "outputs": [],
   "source": [
    "data_pth_lst = glob.glob(os.getcwd() + \"/data/*\")\n",
    "csv_pth = [pth for pth in data_pth_lst if '.csv' in pth]\n",
    "json_pth = [pth for pth in data_pth_lst if '.json' in pth]"
   ]
  },
  {
   "cell_type": "markdown",
   "metadata": {},
   "source": [
    "## csv data"
   ]
  },
  {
   "cell_type": "code",
   "execution_count": 60,
   "metadata": {},
   "outputs": [],
   "source": [
    "csv_dict = {}\n",
    "\n",
    "with open(csv_pth[0], \"r\") as infile:\n",
    "    reader = csv.DictReader(infile)  # Parse JSON data into a Python object. (A)\n",
    "    data = [row for row in reader]"
   ]
  },
  {
   "cell_type": "code",
   "execution_count": 61,
   "metadata": {},
   "outputs": [
    {
     "data": {
      "text/plain": [
       "{'id': 'a0000433',\n",
       " 'spkid': '2000433',\n",
       " 'full_name': '   433 Eros (A898 PA)',\n",
       " 'pdes': '433',\n",
       " 'name': 'Eros',\n",
       " 'prefix': '',\n",
       " 'neo': 'Y',\n",
       " 'pha': 'N',\n",
       " 'H': '10.4',\n",
       " 'G': '0.46',\n",
       " 'M1': '',\n",
       " 'M2': '',\n",
       " 'K1': '',\n",
       " 'K2': '',\n",
       " 'PC': '',\n",
       " 'diameter': '16.84',\n",
       " 'extent': '34.4x11.2x11.2',\n",
       " 'albedo': '0.25',\n",
       " 'rot_per': '5.270',\n",
       " 'GM': '4.463e-04',\n",
       " 'BV': '0.921',\n",
       " 'UB': '0.531',\n",
       " 'IR': '',\n",
       " 'spec_B': 'S',\n",
       " 'spec_T': 'S',\n",
       " 'H_sigma': '',\n",
       " 'diameter_sigma': '0.06',\n",
       " 'orbit_id': 'JPL 658',\n",
       " 'epoch': '2459000.5',\n",
       " 'epoch_mjd': '59000',\n",
       " 'epoch_cal': '20200531.0000000',\n",
       " 'equinox': 'J2000',\n",
       " 'e': '.2229512647434284',\n",
       " 'a': '1.458045729081037',\n",
       " 'q': '1.132972589728666',\n",
       " 'i': '10.83054121829922',\n",
       " 'om': '304.2993259000444',\n",
       " 'w': '178.8822959227224',\n",
       " 'ma': '271.0717325705167',\n",
       " 'ad': '1.783118868433408',\n",
       " 'n': '.5598186418120109',\n",
       " 'tp': '2459159.351922368362',\n",
       " 'tp_cal': '20201105.8519224',\n",
       " 'per': '643.0654021001488',\n",
       " 'per_y': '1.76061711731731',\n",
       " 'moid': '.148623',\n",
       " 'moid_ld': '57.83961291',\n",
       " 'moid_jup': '3.2865',\n",
       " 't_jup': '4.582',\n",
       " 'sigma_e': '9.6497E-9',\n",
       " 'sigma_a': '2.1374E-10',\n",
       " 'sigma_q': '1.4063E-8',\n",
       " 'sigma_i': '1.1645E-6',\n",
       " 'sigma_om': '3.8525E-6',\n",
       " 'sigma_w': '4.088E-6',\n",
       " 'sigma_ma': '1.4389E-6',\n",
       " 'sigma_ad': '2.6139E-10',\n",
       " 'sigma_n': '1.231E-10',\n",
       " 'sigma_tp': '2.5792E-6',\n",
       " 'sigma_per': '1.414E-7',\n",
       " 'class': 'AMO',\n",
       " 'producer': 'Giorgini',\n",
       " 'data_arc': '46330',\n",
       " 'first_obs': '1893-10-29',\n",
       " 'last_obs': '2020-09-03',\n",
       " 'n_obs_used': '8767',\n",
       " 'n_del_obs_used': '4',\n",
       " 'n_dop_obs_used': '2',\n",
       " 'condition_code': '0',\n",
       " 'rms': '.28397',\n",
       " 'two_body': '',\n",
       " 'A1': '',\n",
       " 'A2': '',\n",
       " 'A3': '',\n",
       " 'DT': ''}"
      ]
     },
     "execution_count": 61,
     "metadata": {},
     "output_type": "execute_result"
    }
   ],
   "source": [
    "data[0]"
   ]
  },
  {
   "cell_type": "code",
   "execution_count": 62,
   "metadata": {},
   "outputs": [
    {
     "data": {
      "text/plain": [
       "{'pdes': '433', 'neo': 'Y', 'pha': 'N', 'diameter': '16.84'}"
      ]
     },
     "execution_count": 62,
     "metadata": {},
     "output_type": "execute_result"
    }
   ],
   "source": [
    "{'pdes': '433','neo': 'Y','pha': 'N','diameter': '16.84'}"
   ]
  },
  {
   "cell_type": "markdown",
   "metadata": {},
   "source": [
    "## json data"
   ]
  },
  {
   "cell_type": "code",
   "execution_count": 63,
   "metadata": {},
   "outputs": [],
   "source": [
    "with open(json_pth[0], \"r\") as infile:\n",
    "    data = json.load(infile)  # Load JSON data as a dictionary\n",
    "    fields = data[\"fields\"]  # Extract field names\n",
    "    rows = data[\"data\"]      # Extract rows of data\n",
    "\n",
    "    # Map each row to its corresponding CloseApproach object\n",
    "    for row in rows:\n",
    "        # Create a dictionary mapping field names to values\n",
    "        row_dict = dict(zip(fields, row))"
   ]
  },
  {
   "cell_type": "code",
   "execution_count": 64,
   "metadata": {},
   "outputs": [
    {
     "data": {
      "text/plain": [
       "{'des': '2010 XB24',\n",
       " 'orbit_id': '19',\n",
       " 'jd': '2488069.369087819',\n",
       " 'cd': '2099-Dec-31 20:51',\n",
       " 'dist': '0.126306889299689',\n",
       " 'dist_min': '0.125428658725108',\n",
       " 'dist_max': '0.127185695415594',\n",
       " 'v_rel': '16.6758717193855',\n",
       " 'v_inf': '16.6746066532063',\n",
       " 't_sigma_f': '01:03',\n",
       " 'h': '21.8'}"
      ]
     },
     "execution_count": 64,
     "metadata": {},
     "output_type": "execute_result"
    }
   ],
   "source": [
    "row_dict"
   ]
  },
  {
   "cell_type": "code",
   "execution_count": null,
   "metadata": {},
   "outputs": [],
   "source": []
  }
 ],
 "metadata": {
  "kernelspec": {
   "display_name": "udacity",
   "language": "python",
   "name": "python3"
  },
  "language_info": {
   "codemirror_mode": {
    "name": "ipython",
    "version": 3
   },
   "file_extension": ".py",
   "mimetype": "text/x-python",
   "name": "python",
   "nbconvert_exporter": "python",
   "pygments_lexer": "ipython3",
   "version": "3.11.5"
  }
 },
 "nbformat": 4,
 "nbformat_minor": 2
}
